{
  "nbformat": 4,
  "nbformat_minor": 0,
  "metadata": {
    "colab": {
      "provenance": []
    },
    "kernelspec": {
      "name": "python3",
      "display_name": "Python 3"
    },
    "language_info": {
      "name": "python"
    }
  },
  "cells": [
    {
      "cell_type": "code",
      "execution_count": 1,
      "metadata": {
        "id": "bxYV2tKFw78Q",
        "colab": {
          "base_uri": "https://localhost:8080/"
        },
        "outputId": "84a5bfd5-7d67-4123-c86b-59acfe93acc5"
      },
      "outputs": [
        {
          "output_type": "stream",
          "name": "stdout",
          "text": [
            "Mounted at /content/drive\n"
          ]
        }
      ],
      "source": [
        "import json\n",
        "import os\n",
        "import numpy as np\n",
        "import h5py\n",
        "import pandas as pd\n",
        "from google.colab import drive\n",
        "drive.mount('/content/drive', force_remount=True)"
      ]
    },
    {
      "cell_type": "code",
      "source": [
        "path = '/content/drive/MyDrive/CSE 493 ALC Audio/ALC 2/ses2023/func_feature_Reet.json'\n",
        "path_2 = '/content/drive/MyDrive/CSE 493 ALC Audio/ALC 2/ses2023/lld_feature_Reet.json'\n",
        "\n",
        "temp_1 = pd.read_json(path)\n",
        "display(temp_1)\n",
        "temp_2 = pd.read_json(path_2)\n",
        "display(temp_2)"
      ],
      "metadata": {
        "colab": {
          "base_uri": "https://localhost:8080/",
          "height": 399
        },
        "id": "X86HSlGayDkn",
        "outputId": "ca76a557-b75c-4c0d-f0bc-a9046aad9f89"
      },
      "execution_count": null,
      "outputs": [
        {
          "output_type": "error",
          "ename": "FileNotFoundError",
          "evalue": "ignored",
          "traceback": [
            "\u001b[0;31m---------------------------------------------------------------------------\u001b[0m",
            "\u001b[0;31mFileNotFoundError\u001b[0m                         Traceback (most recent call last)",
            "\u001b[0;32m<ipython-input-3-f5723f4b4f2d>\u001b[0m in \u001b[0;36m<cell line: 4>\u001b[0;34m()\u001b[0m\n\u001b[1;32m      2\u001b[0m \u001b[0mpath_2\u001b[0m \u001b[0;34m=\u001b[0m \u001b[0;34m'/content/drive/MyDrive/CSE 493 ALC Audio/ALC 2/ses2023/lld_feature_Reet.json'\u001b[0m\u001b[0;34m\u001b[0m\u001b[0;34m\u001b[0m\u001b[0m\n\u001b[1;32m      3\u001b[0m \u001b[0;34m\u001b[0m\u001b[0m\n\u001b[0;32m----> 4\u001b[0;31m \u001b[0mtemp_1\u001b[0m \u001b[0;34m=\u001b[0m \u001b[0mpd\u001b[0m\u001b[0;34m.\u001b[0m\u001b[0mread_json\u001b[0m\u001b[0;34m(\u001b[0m\u001b[0mpath\u001b[0m\u001b[0;34m)\u001b[0m\u001b[0;34m\u001b[0m\u001b[0;34m\u001b[0m\u001b[0m\n\u001b[0m\u001b[1;32m      5\u001b[0m \u001b[0mdisplay\u001b[0m\u001b[0;34m(\u001b[0m\u001b[0mtemp_1\u001b[0m\u001b[0;34m)\u001b[0m\u001b[0;34m\u001b[0m\u001b[0;34m\u001b[0m\u001b[0m\n\u001b[1;32m      6\u001b[0m \u001b[0mtemp_2\u001b[0m \u001b[0;34m=\u001b[0m \u001b[0mpd\u001b[0m\u001b[0;34m.\u001b[0m\u001b[0mread_json\u001b[0m\u001b[0;34m(\u001b[0m\u001b[0mpath_2\u001b[0m\u001b[0;34m)\u001b[0m\u001b[0;34m\u001b[0m\u001b[0;34m\u001b[0m\u001b[0m\n",
            "\u001b[0;32m/usr/local/lib/python3.10/dist-packages/pandas/util/_decorators.py\u001b[0m in \u001b[0;36mwrapper\u001b[0;34m(*args, **kwargs)\u001b[0m\n\u001b[1;32m    209\u001b[0m                 \u001b[0;32melse\u001b[0m\u001b[0;34m:\u001b[0m\u001b[0;34m\u001b[0m\u001b[0;34m\u001b[0m\u001b[0m\n\u001b[1;32m    210\u001b[0m                     \u001b[0mkwargs\u001b[0m\u001b[0;34m[\u001b[0m\u001b[0mnew_arg_name\u001b[0m\u001b[0;34m]\u001b[0m \u001b[0;34m=\u001b[0m \u001b[0mnew_arg_value\u001b[0m\u001b[0;34m\u001b[0m\u001b[0;34m\u001b[0m\u001b[0m\n\u001b[0;32m--> 211\u001b[0;31m             \u001b[0;32mreturn\u001b[0m \u001b[0mfunc\u001b[0m\u001b[0;34m(\u001b[0m\u001b[0;34m*\u001b[0m\u001b[0margs\u001b[0m\u001b[0;34m,\u001b[0m \u001b[0;34m**\u001b[0m\u001b[0mkwargs\u001b[0m\u001b[0;34m)\u001b[0m\u001b[0;34m\u001b[0m\u001b[0;34m\u001b[0m\u001b[0m\n\u001b[0m\u001b[1;32m    212\u001b[0m \u001b[0;34m\u001b[0m\u001b[0m\n\u001b[1;32m    213\u001b[0m         \u001b[0;32mreturn\u001b[0m \u001b[0mcast\u001b[0m\u001b[0;34m(\u001b[0m\u001b[0mF\u001b[0m\u001b[0;34m,\u001b[0m \u001b[0mwrapper\u001b[0m\u001b[0;34m)\u001b[0m\u001b[0;34m\u001b[0m\u001b[0;34m\u001b[0m\u001b[0m\n",
            "\u001b[0;32m/usr/local/lib/python3.10/dist-packages/pandas/util/_decorators.py\u001b[0m in \u001b[0;36mwrapper\u001b[0;34m(*args, **kwargs)\u001b[0m\n\u001b[1;32m    329\u001b[0m                     \u001b[0mstacklevel\u001b[0m\u001b[0;34m=\u001b[0m\u001b[0mfind_stack_level\u001b[0m\u001b[0;34m(\u001b[0m\u001b[0;34m)\u001b[0m\u001b[0;34m,\u001b[0m\u001b[0;34m\u001b[0m\u001b[0;34m\u001b[0m\u001b[0m\n\u001b[1;32m    330\u001b[0m                 )\n\u001b[0;32m--> 331\u001b[0;31m             \u001b[0;32mreturn\u001b[0m \u001b[0mfunc\u001b[0m\u001b[0;34m(\u001b[0m\u001b[0;34m*\u001b[0m\u001b[0margs\u001b[0m\u001b[0;34m,\u001b[0m \u001b[0;34m**\u001b[0m\u001b[0mkwargs\u001b[0m\u001b[0;34m)\u001b[0m\u001b[0;34m\u001b[0m\u001b[0;34m\u001b[0m\u001b[0m\n\u001b[0m\u001b[1;32m    332\u001b[0m \u001b[0;34m\u001b[0m\u001b[0m\n\u001b[1;32m    333\u001b[0m         \u001b[0;31m# error: \"Callable[[VarArg(Any), KwArg(Any)], Any]\" has no\u001b[0m\u001b[0;34m\u001b[0m\u001b[0;34m\u001b[0m\u001b[0m\n",
            "\u001b[0;32m/usr/local/lib/python3.10/dist-packages/pandas/io/json/_json.py\u001b[0m in \u001b[0;36mread_json\u001b[0;34m(path_or_buf, orient, typ, dtype, convert_axes, convert_dates, keep_default_dates, numpy, precise_float, date_unit, encoding, encoding_errors, lines, chunksize, compression, nrows, storage_options)\u001b[0m\n\u001b[1;32m    731\u001b[0m         \u001b[0mconvert_axes\u001b[0m \u001b[0;34m=\u001b[0m \u001b[0;32mTrue\u001b[0m\u001b[0;34m\u001b[0m\u001b[0;34m\u001b[0m\u001b[0m\n\u001b[1;32m    732\u001b[0m \u001b[0;34m\u001b[0m\u001b[0m\n\u001b[0;32m--> 733\u001b[0;31m     json_reader = JsonReader(\n\u001b[0m\u001b[1;32m    734\u001b[0m         \u001b[0mpath_or_buf\u001b[0m\u001b[0;34m,\u001b[0m\u001b[0;34m\u001b[0m\u001b[0;34m\u001b[0m\u001b[0m\n\u001b[1;32m    735\u001b[0m         \u001b[0morient\u001b[0m\u001b[0;34m=\u001b[0m\u001b[0morient\u001b[0m\u001b[0;34m,\u001b[0m\u001b[0;34m\u001b[0m\u001b[0;34m\u001b[0m\u001b[0m\n",
            "\u001b[0;32m/usr/local/lib/python3.10/dist-packages/pandas/io/json/_json.py\u001b[0m in \u001b[0;36m__init__\u001b[0;34m(self, filepath_or_buffer, orient, typ, dtype, convert_axes, convert_dates, keep_default_dates, numpy, precise_float, date_unit, encoding, lines, chunksize, compression, nrows, storage_options, encoding_errors)\u001b[0m\n\u001b[1;32m    816\u001b[0m                 \u001b[0;32mraise\u001b[0m \u001b[0mValueError\u001b[0m\u001b[0;34m(\u001b[0m\u001b[0;34m\"nrows can only be passed if lines=True\"\u001b[0m\u001b[0;34m)\u001b[0m\u001b[0;34m\u001b[0m\u001b[0;34m\u001b[0m\u001b[0m\n\u001b[1;32m    817\u001b[0m \u001b[0;34m\u001b[0m\u001b[0m\n\u001b[0;32m--> 818\u001b[0;31m         \u001b[0mdata\u001b[0m \u001b[0;34m=\u001b[0m \u001b[0mself\u001b[0m\u001b[0;34m.\u001b[0m\u001b[0m_get_data_from_filepath\u001b[0m\u001b[0;34m(\u001b[0m\u001b[0mfilepath_or_buffer\u001b[0m\u001b[0;34m)\u001b[0m\u001b[0;34m\u001b[0m\u001b[0;34m\u001b[0m\u001b[0m\n\u001b[0m\u001b[1;32m    819\u001b[0m         \u001b[0mself\u001b[0m\u001b[0;34m.\u001b[0m\u001b[0mdata\u001b[0m \u001b[0;34m=\u001b[0m \u001b[0mself\u001b[0m\u001b[0;34m.\u001b[0m\u001b[0m_preprocess_data\u001b[0m\u001b[0;34m(\u001b[0m\u001b[0mdata\u001b[0m\u001b[0;34m)\u001b[0m\u001b[0;34m\u001b[0m\u001b[0;34m\u001b[0m\u001b[0m\n\u001b[1;32m    820\u001b[0m \u001b[0;34m\u001b[0m\u001b[0m\n",
            "\u001b[0;32m/usr/local/lib/python3.10/dist-packages/pandas/io/json/_json.py\u001b[0m in \u001b[0;36m_get_data_from_filepath\u001b[0;34m(self, filepath_or_buffer)\u001b[0m\n\u001b[1;32m    872\u001b[0m             \u001b[0;32mand\u001b[0m \u001b[0;32mnot\u001b[0m \u001b[0mfile_exists\u001b[0m\u001b[0;34m(\u001b[0m\u001b[0mfilepath_or_buffer\u001b[0m\u001b[0;34m)\u001b[0m\u001b[0;34m\u001b[0m\u001b[0;34m\u001b[0m\u001b[0m\n\u001b[1;32m    873\u001b[0m         ):\n\u001b[0;32m--> 874\u001b[0;31m             \u001b[0;32mraise\u001b[0m \u001b[0mFileNotFoundError\u001b[0m\u001b[0;34m(\u001b[0m\u001b[0;34mf\"File {filepath_or_buffer} does not exist\"\u001b[0m\u001b[0;34m)\u001b[0m\u001b[0;34m\u001b[0m\u001b[0;34m\u001b[0m\u001b[0m\n\u001b[0m\u001b[1;32m    875\u001b[0m \u001b[0;34m\u001b[0m\u001b[0m\n\u001b[1;32m    876\u001b[0m         \u001b[0;32mreturn\u001b[0m \u001b[0mfilepath_or_buffer\u001b[0m\u001b[0;34m\u001b[0m\u001b[0;34m\u001b[0m\u001b[0m\n",
            "\u001b[0;31mFileNotFoundError\u001b[0m: File /content/drive/MyDrive/CSE 493 ALC Audio/ALC 2/ses2023/func_feature_Reet.json does not exist"
          ]
        }
      ]
    },
    {
      "cell_type": "code",
      "source": [
        "print(np.array([item for sublist in temp_1['0182023059_h_00.wav']['features'] for item in sublist]).shape)\n",
        "# flat_list = [item for sublist in nested_list for item in sublist]\n",
        "\n",
        "# print(flat_list)"
      ],
      "metadata": {
        "colab": {
          "base_uri": "https://localhost:8080/"
        },
        "id": "UBZXELDaSmM6",
        "outputId": "bfcb414a-1174-4f43-d200-a51e648b879e"
      },
      "execution_count": null,
      "outputs": [
        {
          "output_type": "stream",
          "name": "stdout",
          "text": [
            "(6373,)\n"
          ]
        }
      ]
    },
    {
      "cell_type": "code",
      "source": [
        "root_path = '/content/drive/MyDrive/CSE 493 ALC Audio/ALC 2/'\n",
        "all_ses_paths = []\n",
        "for i in range(1006, 6014):\n",
        "  temp_path = root_path + f'ses{i}'\n",
        "  if(os.path.isdir(temp_path)):\n",
        "    all_ses_paths.append(temp_path)\n",
        "print(all_ses_paths)"
      ],
      "metadata": {
        "id": "yUxSzPg3Y0f7",
        "colab": {
          "base_uri": "https://localhost:8080/"
        },
        "outputId": "74c75839-8af8-4340-a435-7dca2315379a"
      },
      "execution_count": 2,
      "outputs": [
        {
          "output_type": "stream",
          "name": "stdout",
          "text": [
            "['/content/drive/MyDrive/CSE 493 ALC Audio/ALC 2/ses1006', '/content/drive/MyDrive/CSE 493 ALC Audio/ALC 2/ses1007', '/content/drive/MyDrive/CSE 493 ALC Audio/ALC 2/ses1008', '/content/drive/MyDrive/CSE 493 ALC Audio/ALC 2/ses1009', '/content/drive/MyDrive/CSE 493 ALC Audio/ALC 2/ses1010', '/content/drive/MyDrive/CSE 493 ALC Audio/ALC 2/ses1011', '/content/drive/MyDrive/CSE 493 ALC Audio/ALC 2/ses1012', '/content/drive/MyDrive/CSE 493 ALC Audio/ALC 2/ses1013', '/content/drive/MyDrive/CSE 493 ALC Audio/ALC 2/ses1015', '/content/drive/MyDrive/CSE 493 ALC Audio/ALC 2/ses1016', '/content/drive/MyDrive/CSE 493 ALC Audio/ALC 2/ses1017', '/content/drive/MyDrive/CSE 493 ALC Audio/ALC 2/ses1018', '/content/drive/MyDrive/CSE 493 ALC Audio/ALC 2/ses1019', '/content/drive/MyDrive/CSE 493 ALC Audio/ALC 2/ses1021', '/content/drive/MyDrive/CSE 493 ALC Audio/ALC 2/ses1023', '/content/drive/MyDrive/CSE 493 ALC Audio/ALC 2/ses1024', '/content/drive/MyDrive/CSE 493 ALC Audio/ALC 2/ses1025', '/content/drive/MyDrive/CSE 493 ALC Audio/ALC 2/ses1026', '/content/drive/MyDrive/CSE 493 ALC Audio/ALC 2/ses1027', '/content/drive/MyDrive/CSE 493 ALC Audio/ALC 2/ses1028', '/content/drive/MyDrive/CSE 493 ALC Audio/ALC 2/ses1029', '/content/drive/MyDrive/CSE 493 ALC Audio/ALC 2/ses1030', '/content/drive/MyDrive/CSE 493 ALC Audio/ALC 2/ses1031', '/content/drive/MyDrive/CSE 493 ALC Audio/ALC 2/ses1032', '/content/drive/MyDrive/CSE 493 ALC Audio/ALC 2/ses1033', '/content/drive/MyDrive/CSE 493 ALC Audio/ALC 2/ses1035', '/content/drive/MyDrive/CSE 493 ALC Audio/ALC 2/ses1036', '/content/drive/MyDrive/CSE 493 ALC Audio/ALC 2/ses1037', '/content/drive/MyDrive/CSE 493 ALC Audio/ALC 2/ses1038', '/content/drive/MyDrive/CSE 493 ALC Audio/ALC 2/ses1039', '/content/drive/MyDrive/CSE 493 ALC Audio/ALC 2/ses1040', '/content/drive/MyDrive/CSE 493 ALC Audio/ALC 2/ses1041', '/content/drive/MyDrive/CSE 493 ALC Audio/ALC 2/ses1042', '/content/drive/MyDrive/CSE 493 ALC Audio/ALC 2/ses1043', '/content/drive/MyDrive/CSE 493 ALC Audio/ALC 2/ses1044', '/content/drive/MyDrive/CSE 493 ALC Audio/ALC 2/ses1047', '/content/drive/MyDrive/CSE 493 ALC Audio/ALC 2/ses1048', '/content/drive/MyDrive/CSE 493 ALC Audio/ALC 2/ses1049', '/content/drive/MyDrive/CSE 493 ALC Audio/ALC 2/ses1050', '/content/drive/MyDrive/CSE 493 ALC Audio/ALC 2/ses1051', '/content/drive/MyDrive/CSE 493 ALC Audio/ALC 2/ses1052', '/content/drive/MyDrive/CSE 493 ALC Audio/ALC 2/ses1054', '/content/drive/MyDrive/CSE 493 ALC Audio/ALC 2/ses1055', '/content/drive/MyDrive/CSE 493 ALC Audio/ALC 2/ses1056', '/content/drive/MyDrive/CSE 493 ALC Audio/ALC 2/ses1058', '/content/drive/MyDrive/CSE 493 ALC Audio/ALC 2/ses1059', '/content/drive/MyDrive/CSE 493 ALC Audio/ALC 2/ses1060', '/content/drive/MyDrive/CSE 493 ALC Audio/ALC 2/ses1061', '/content/drive/MyDrive/CSE 493 ALC Audio/ALC 2/ses1062', '/content/drive/MyDrive/CSE 493 ALC Audio/ALC 2/ses1063', '/content/drive/MyDrive/CSE 493 ALC Audio/ALC 2/ses1064', '/content/drive/MyDrive/CSE 493 ALC Audio/ALC 2/ses1065', '/content/drive/MyDrive/CSE 493 ALC Audio/ALC 2/ses1066', '/content/drive/MyDrive/CSE 493 ALC Audio/ALC 2/ses1070', '/content/drive/MyDrive/CSE 493 ALC Audio/ALC 2/ses1071', '/content/drive/MyDrive/CSE 493 ALC Audio/ALC 2/ses1072', '/content/drive/MyDrive/CSE 493 ALC Audio/ALC 2/ses1073', '/content/drive/MyDrive/CSE 493 ALC Audio/ALC 2/ses1074', '/content/drive/MyDrive/CSE 493 ALC Audio/ALC 2/ses1075', '/content/drive/MyDrive/CSE 493 ALC Audio/ALC 2/ses1076', '/content/drive/MyDrive/CSE 493 ALC Audio/ALC 2/ses1078', '/content/drive/MyDrive/CSE 493 ALC Audio/ALC 2/ses1079', '/content/drive/MyDrive/CSE 493 ALC Audio/ALC 2/ses1080', '/content/drive/MyDrive/CSE 493 ALC Audio/ALC 2/ses1081', '/content/drive/MyDrive/CSE 493 ALC Audio/ALC 2/ses1082', '/content/drive/MyDrive/CSE 493 ALC Audio/ALC 2/ses1083', '/content/drive/MyDrive/CSE 493 ALC Audio/ALC 2/ses1084', '/content/drive/MyDrive/CSE 493 ALC Audio/ALC 2/ses1087', '/content/drive/MyDrive/CSE 493 ALC Audio/ALC 2/ses1088', '/content/drive/MyDrive/CSE 493 ALC Audio/ALC 2/ses1089', '/content/drive/MyDrive/CSE 493 ALC Audio/ALC 2/ses1090', '/content/drive/MyDrive/CSE 493 ALC Audio/ALC 2/ses1091', '/content/drive/MyDrive/CSE 493 ALC Audio/ALC 2/ses1092', '/content/drive/MyDrive/CSE 493 ALC Audio/ALC 2/ses1093', '/content/drive/MyDrive/CSE 493 ALC Audio/ALC 2/ses1095', '/content/drive/MyDrive/CSE 493 ALC Audio/ALC 2/ses1096', '/content/drive/MyDrive/CSE 493 ALC Audio/ALC 2/ses1097', '/content/drive/MyDrive/CSE 493 ALC Audio/ALC 2/ses1098', '/content/drive/MyDrive/CSE 493 ALC Audio/ALC 2/ses1099', '/content/drive/MyDrive/CSE 493 ALC Audio/ALC 2/ses1100', '/content/drive/MyDrive/CSE 493 ALC Audio/ALC 2/ses1101', '/content/drive/MyDrive/CSE 493 ALC Audio/ALC 2/ses1102', '/content/drive/MyDrive/CSE 493 ALC Audio/ALC 2/ses1103', '/content/drive/MyDrive/CSE 493 ALC Audio/ALC 2/ses1104', '/content/drive/MyDrive/CSE 493 ALC Audio/ALC 2/ses2003', '/content/drive/MyDrive/CSE 493 ALC Audio/ALC 2/ses2005', '/content/drive/MyDrive/CSE 493 ALC Audio/ALC 2/ses2006', '/content/drive/MyDrive/CSE 493 ALC Audio/ALC 2/ses2009', '/content/drive/MyDrive/CSE 493 ALC Audio/ALC 2/ses2010', '/content/drive/MyDrive/CSE 493 ALC Audio/ALC 2/ses2011', '/content/drive/MyDrive/CSE 493 ALC Audio/ALC 2/ses2012', '/content/drive/MyDrive/CSE 493 ALC Audio/ALC 2/ses2013', '/content/drive/MyDrive/CSE 493 ALC Audio/ALC 2/ses2014', '/content/drive/MyDrive/CSE 493 ALC Audio/ALC 2/ses2015', '/content/drive/MyDrive/CSE 493 ALC Audio/ALC 2/ses2016', '/content/drive/MyDrive/CSE 493 ALC Audio/ALC 2/ses2017', '/content/drive/MyDrive/CSE 493 ALC Audio/ALC 2/ses2018', '/content/drive/MyDrive/CSE 493 ALC Audio/ALC 2/ses2019', '/content/drive/MyDrive/CSE 493 ALC Audio/ALC 2/ses2020', '/content/drive/MyDrive/CSE 493 ALC Audio/ALC 2/ses2021', '/content/drive/MyDrive/CSE 493 ALC Audio/ALC 2/ses2022', '/content/drive/MyDrive/CSE 493 ALC Audio/ALC 2/ses2023', '/content/drive/MyDrive/CSE 493 ALC Audio/ALC 2/ses2024', '/content/drive/MyDrive/CSE 493 ALC Audio/ALC 2/ses2025', '/content/drive/MyDrive/CSE 493 ALC Audio/ALC 2/ses2026', '/content/drive/MyDrive/CSE 493 ALC Audio/ALC 2/ses2027', '/content/drive/MyDrive/CSE 493 ALC Audio/ALC 2/ses2028', '/content/drive/MyDrive/CSE 493 ALC Audio/ALC 2/ses2029', '/content/drive/MyDrive/CSE 493 ALC Audio/ALC 2/ses2030', '/content/drive/MyDrive/CSE 493 ALC Audio/ALC 2/ses2031', '/content/drive/MyDrive/CSE 493 ALC Audio/ALC 2/ses2032', '/content/drive/MyDrive/CSE 493 ALC Audio/ALC 2/ses2033', '/content/drive/MyDrive/CSE 493 ALC Audio/ALC 2/ses2034', '/content/drive/MyDrive/CSE 493 ALC Audio/ALC 2/ses2035', '/content/drive/MyDrive/CSE 493 ALC Audio/ALC 2/ses2036', '/content/drive/MyDrive/CSE 493 ALC Audio/ALC 2/ses2037', '/content/drive/MyDrive/CSE 493 ALC Audio/ALC 2/ses2038', '/content/drive/MyDrive/CSE 493 ALC Audio/ALC 2/ses2039', '/content/drive/MyDrive/CSE 493 ALC Audio/ALC 2/ses2040', '/content/drive/MyDrive/CSE 493 ALC Audio/ALC 2/ses2041', '/content/drive/MyDrive/CSE 493 ALC Audio/ALC 2/ses2042', '/content/drive/MyDrive/CSE 493 ALC Audio/ALC 2/ses2043', '/content/drive/MyDrive/CSE 493 ALC Audio/ALC 2/ses2044', '/content/drive/MyDrive/CSE 493 ALC Audio/ALC 2/ses2045', '/content/drive/MyDrive/CSE 493 ALC Audio/ALC 2/ses2046', '/content/drive/MyDrive/CSE 493 ALC Audio/ALC 2/ses2047', '/content/drive/MyDrive/CSE 493 ALC Audio/ALC 2/ses2048', '/content/drive/MyDrive/CSE 493 ALC Audio/ALC 2/ses2049', '/content/drive/MyDrive/CSE 493 ALC Audio/ALC 2/ses2050', '/content/drive/MyDrive/CSE 493 ALC Audio/ALC 2/ses2051', '/content/drive/MyDrive/CSE 493 ALC Audio/ALC 2/ses2052', '/content/drive/MyDrive/CSE 493 ALC Audio/ALC 2/ses2053', '/content/drive/MyDrive/CSE 493 ALC Audio/ALC 2/ses2054', '/content/drive/MyDrive/CSE 493 ALC Audio/ALC 2/ses2055', '/content/drive/MyDrive/CSE 493 ALC Audio/ALC 2/ses2056', '/content/drive/MyDrive/CSE 493 ALC Audio/ALC 2/ses2057', '/content/drive/MyDrive/CSE 493 ALC Audio/ALC 2/ses2058', '/content/drive/MyDrive/CSE 493 ALC Audio/ALC 2/ses2059', '/content/drive/MyDrive/CSE 493 ALC Audio/ALC 2/ses2060', '/content/drive/MyDrive/CSE 493 ALC Audio/ALC 2/ses2061', '/content/drive/MyDrive/CSE 493 ALC Audio/ALC 2/ses2062', '/content/drive/MyDrive/CSE 493 ALC Audio/ALC 2/ses2063', '/content/drive/MyDrive/CSE 493 ALC Audio/ALC 2/ses2064', '/content/drive/MyDrive/CSE 493 ALC Audio/ALC 2/ses2065', '/content/drive/MyDrive/CSE 493 ALC Audio/ALC 2/ses2066', '/content/drive/MyDrive/CSE 493 ALC Audio/ALC 2/ses2067', '/content/drive/MyDrive/CSE 493 ALC Audio/ALC 2/ses2068', '/content/drive/MyDrive/CSE 493 ALC Audio/ALC 2/ses2069', '/content/drive/MyDrive/CSE 493 ALC Audio/ALC 2/ses2070', '/content/drive/MyDrive/CSE 493 ALC Audio/ALC 2/ses2071', '/content/drive/MyDrive/CSE 493 ALC Audio/ALC 2/ses2072', '/content/drive/MyDrive/CSE 493 ALC Audio/ALC 2/ses2073', '/content/drive/MyDrive/CSE 493 ALC Audio/ALC 2/ses2074', '/content/drive/MyDrive/CSE 493 ALC Audio/ALC 2/ses2075', '/content/drive/MyDrive/CSE 493 ALC Audio/ALC 2/ses2076', '/content/drive/MyDrive/CSE 493 ALC Audio/ALC 2/ses2077', '/content/drive/MyDrive/CSE 493 ALC Audio/ALC 2/ses2078', '/content/drive/MyDrive/CSE 493 ALC Audio/ALC 2/ses2079', '/content/drive/MyDrive/CSE 493 ALC Audio/ALC 2/ses2080', '/content/drive/MyDrive/CSE 493 ALC Audio/ALC 2/ses2081', '/content/drive/MyDrive/CSE 493 ALC Audio/ALC 2/ses2082', '/content/drive/MyDrive/CSE 493 ALC Audio/ALC 2/ses2083', '/content/drive/MyDrive/CSE 493 ALC Audio/ALC 2/ses2084', '/content/drive/MyDrive/CSE 493 ALC Audio/ALC 2/ses2085', '/content/drive/MyDrive/CSE 493 ALC Audio/ALC 2/ses2086', '/content/drive/MyDrive/CSE 493 ALC Audio/ALC 2/ses2087', '/content/drive/MyDrive/CSE 493 ALC Audio/ALC 2/ses2088', '/content/drive/MyDrive/CSE 493 ALC Audio/ALC 2/ses2089', '/content/drive/MyDrive/CSE 493 ALC Audio/ALC 2/ses3001', '/content/drive/MyDrive/CSE 493 ALC Audio/ALC 2/ses3002', '/content/drive/MyDrive/CSE 493 ALC Audio/ALC 2/ses3003', '/content/drive/MyDrive/CSE 493 ALC Audio/ALC 2/ses3005', '/content/drive/MyDrive/CSE 493 ALC Audio/ALC 2/ses3006', '/content/drive/MyDrive/CSE 493 ALC Audio/ALC 2/ses3007', '/content/drive/MyDrive/CSE 493 ALC Audio/ALC 2/ses3008', '/content/drive/MyDrive/CSE 493 ALC Audio/ALC 2/ses3009', '/content/drive/MyDrive/CSE 493 ALC Audio/ALC 2/ses3010', '/content/drive/MyDrive/CSE 493 ALC Audio/ALC 2/ses3012', '/content/drive/MyDrive/CSE 493 ALC Audio/ALC 2/ses3014', '/content/drive/MyDrive/CSE 493 ALC Audio/ALC 2/ses3015', '/content/drive/MyDrive/CSE 493 ALC Audio/ALC 2/ses3016', '/content/drive/MyDrive/CSE 493 ALC Audio/ALC 2/ses3018', '/content/drive/MyDrive/CSE 493 ALC Audio/ALC 2/ses3019', '/content/drive/MyDrive/CSE 493 ALC Audio/ALC 2/ses3021', '/content/drive/MyDrive/CSE 493 ALC Audio/ALC 2/ses3022', '/content/drive/MyDrive/CSE 493 ALC Audio/ALC 2/ses3023', '/content/drive/MyDrive/CSE 493 ALC Audio/ALC 2/ses3024', '/content/drive/MyDrive/CSE 493 ALC Audio/ALC 2/ses3025', '/content/drive/MyDrive/CSE 493 ALC Audio/ALC 2/ses3026', '/content/drive/MyDrive/CSE 493 ALC Audio/ALC 2/ses3027', '/content/drive/MyDrive/CSE 493 ALC Audio/ALC 2/ses3028', '/content/drive/MyDrive/CSE 493 ALC Audio/ALC 2/ses3029', '/content/drive/MyDrive/CSE 493 ALC Audio/ALC 2/ses3030', '/content/drive/MyDrive/CSE 493 ALC Audio/ALC 2/ses3031', '/content/drive/MyDrive/CSE 493 ALC Audio/ALC 2/ses3032', '/content/drive/MyDrive/CSE 493 ALC Audio/ALC 2/ses3033', '/content/drive/MyDrive/CSE 493 ALC Audio/ALC 2/ses3034', '/content/drive/MyDrive/CSE 493 ALC Audio/ALC 2/ses3035', '/content/drive/MyDrive/CSE 493 ALC Audio/ALC 2/ses3037', '/content/drive/MyDrive/CSE 493 ALC Audio/ALC 2/ses3038', '/content/drive/MyDrive/CSE 493 ALC Audio/ALC 2/ses3042', '/content/drive/MyDrive/CSE 493 ALC Audio/ALC 2/ses3043', '/content/drive/MyDrive/CSE 493 ALC Audio/ALC 2/ses3044', '/content/drive/MyDrive/CSE 493 ALC Audio/ALC 2/ses3045', '/content/drive/MyDrive/CSE 493 ALC Audio/ALC 2/ses3046', '/content/drive/MyDrive/CSE 493 ALC Audio/ALC 2/ses3047', '/content/drive/MyDrive/CSE 493 ALC Audio/ALC 2/ses3048', '/content/drive/MyDrive/CSE 493 ALC Audio/ALC 2/ses3049', '/content/drive/MyDrive/CSE 493 ALC Audio/ALC 2/ses3050', '/content/drive/MyDrive/CSE 493 ALC Audio/ALC 2/ses3051', '/content/drive/MyDrive/CSE 493 ALC Audio/ALC 2/ses3052', '/content/drive/MyDrive/CSE 493 ALC Audio/ALC 2/ses3053', '/content/drive/MyDrive/CSE 493 ALC Audio/ALC 2/ses3055', '/content/drive/MyDrive/CSE 493 ALC Audio/ALC 2/ses3056', '/content/drive/MyDrive/CSE 493 ALC Audio/ALC 2/ses3057', '/content/drive/MyDrive/CSE 493 ALC Audio/ALC 2/ses3058', '/content/drive/MyDrive/CSE 493 ALC Audio/ALC 2/ses3059', '/content/drive/MyDrive/CSE 493 ALC Audio/ALC 2/ses3061', '/content/drive/MyDrive/CSE 493 ALC Audio/ALC 2/ses3062', '/content/drive/MyDrive/CSE 493 ALC Audio/ALC 2/ses3063', '/content/drive/MyDrive/CSE 493 ALC Audio/ALC 2/ses3064', '/content/drive/MyDrive/CSE 493 ALC Audio/ALC 2/ses3066', '/content/drive/MyDrive/CSE 493 ALC Audio/ALC 2/ses3069', '/content/drive/MyDrive/CSE 493 ALC Audio/ALC 2/ses3070', '/content/drive/MyDrive/CSE 493 ALC Audio/ALC 2/ses3071', '/content/drive/MyDrive/CSE 493 ALC Audio/ALC 2/ses3072', '/content/drive/MyDrive/CSE 493 ALC Audio/ALC 2/ses3073', '/content/drive/MyDrive/CSE 493 ALC Audio/ALC 2/ses3074', '/content/drive/MyDrive/CSE 493 ALC Audio/ALC 2/ses3075', '/content/drive/MyDrive/CSE 493 ALC Audio/ALC 2/ses3076', '/content/drive/MyDrive/CSE 493 ALC Audio/ALC 2/ses3077', '/content/drive/MyDrive/CSE 493 ALC Audio/ALC 2/ses3078', '/content/drive/MyDrive/CSE 493 ALC Audio/ALC 2/ses3079', '/content/drive/MyDrive/CSE 493 ALC Audio/ALC 2/ses3082', '/content/drive/MyDrive/CSE 493 ALC Audio/ALC 2/ses3083', '/content/drive/MyDrive/CSE 493 ALC Audio/ALC 2/ses3084', '/content/drive/MyDrive/CSE 493 ALC Audio/ALC 2/ses3085', '/content/drive/MyDrive/CSE 493 ALC Audio/ALC 2/ses3086', '/content/drive/MyDrive/CSE 493 ALC Audio/ALC 2/ses3087', '/content/drive/MyDrive/CSE 493 ALC Audio/ALC 2/ses3088', '/content/drive/MyDrive/CSE 493 ALC Audio/ALC 2/ses3090', '/content/drive/MyDrive/CSE 493 ALC Audio/ALC 2/ses3091', '/content/drive/MyDrive/CSE 493 ALC Audio/ALC 2/ses3092', '/content/drive/MyDrive/CSE 493 ALC Audio/ALC 2/ses3095', '/content/drive/MyDrive/CSE 493 ALC Audio/ALC 2/ses3096', '/content/drive/MyDrive/CSE 493 ALC Audio/ALC 2/ses3097', '/content/drive/MyDrive/CSE 493 ALC Audio/ALC 2/ses4001', '/content/drive/MyDrive/CSE 493 ALC Audio/ALC 2/ses4002', '/content/drive/MyDrive/CSE 493 ALC Audio/ALC 2/ses4003', '/content/drive/MyDrive/CSE 493 ALC Audio/ALC 2/ses4004', '/content/drive/MyDrive/CSE 493 ALC Audio/ALC 2/ses4005', '/content/drive/MyDrive/CSE 493 ALC Audio/ALC 2/ses4006', '/content/drive/MyDrive/CSE 493 ALC Audio/ALC 2/ses4007', '/content/drive/MyDrive/CSE 493 ALC Audio/ALC 2/ses4008', '/content/drive/MyDrive/CSE 493 ALC Audio/ALC 2/ses4009', '/content/drive/MyDrive/CSE 493 ALC Audio/ALC 2/ses4010', '/content/drive/MyDrive/CSE 493 ALC Audio/ALC 2/ses4011', '/content/drive/MyDrive/CSE 493 ALC Audio/ALC 2/ses4012', '/content/drive/MyDrive/CSE 493 ALC Audio/ALC 2/ses4013', '/content/drive/MyDrive/CSE 493 ALC Audio/ALC 2/ses4014', '/content/drive/MyDrive/CSE 493 ALC Audio/ALC 2/ses4015', '/content/drive/MyDrive/CSE 493 ALC Audio/ALC 2/ses4016', '/content/drive/MyDrive/CSE 493 ALC Audio/ALC 2/ses4017', '/content/drive/MyDrive/CSE 493 ALC Audio/ALC 2/ses4018', '/content/drive/MyDrive/CSE 493 ALC Audio/ALC 2/ses4019', '/content/drive/MyDrive/CSE 493 ALC Audio/ALC 2/ses4020', '/content/drive/MyDrive/CSE 493 ALC Audio/ALC 2/ses4021', '/content/drive/MyDrive/CSE 493 ALC Audio/ALC 2/ses4022', '/content/drive/MyDrive/CSE 493 ALC Audio/ALC 2/ses4023', '/content/drive/MyDrive/CSE 493 ALC Audio/ALC 2/ses4024', '/content/drive/MyDrive/CSE 493 ALC Audio/ALC 2/ses4025', '/content/drive/MyDrive/CSE 493 ALC Audio/ALC 2/ses4026', '/content/drive/MyDrive/CSE 493 ALC Audio/ALC 2/ses4027', '/content/drive/MyDrive/CSE 493 ALC Audio/ALC 2/ses4028', '/content/drive/MyDrive/CSE 493 ALC Audio/ALC 2/ses4029', '/content/drive/MyDrive/CSE 493 ALC Audio/ALC 2/ses4030', '/content/drive/MyDrive/CSE 493 ALC Audio/ALC 2/ses4031', '/content/drive/MyDrive/CSE 493 ALC Audio/ALC 2/ses4032', '/content/drive/MyDrive/CSE 493 ALC Audio/ALC 2/ses4033', '/content/drive/MyDrive/CSE 493 ALC Audio/ALC 2/ses4034', '/content/drive/MyDrive/CSE 493 ALC Audio/ALC 2/ses4035', '/content/drive/MyDrive/CSE 493 ALC Audio/ALC 2/ses4036', '/content/drive/MyDrive/CSE 493 ALC Audio/ALC 2/ses4037', '/content/drive/MyDrive/CSE 493 ALC Audio/ALC 2/ses4038', '/content/drive/MyDrive/CSE 493 ALC Audio/ALC 2/ses4039', '/content/drive/MyDrive/CSE 493 ALC Audio/ALC 2/ses4040', '/content/drive/MyDrive/CSE 493 ALC Audio/ALC 2/ses4041', '/content/drive/MyDrive/CSE 493 ALC Audio/ALC 2/ses4042', '/content/drive/MyDrive/CSE 493 ALC Audio/ALC 2/ses4043', '/content/drive/MyDrive/CSE 493 ALC Audio/ALC 2/ses4044', '/content/drive/MyDrive/CSE 493 ALC Audio/ALC 2/ses4045', '/content/drive/MyDrive/CSE 493 ALC Audio/ALC 2/ses4046', '/content/drive/MyDrive/CSE 493 ALC Audio/ALC 2/ses4047', '/content/drive/MyDrive/CSE 493 ALC Audio/ALC 2/ses4048', '/content/drive/MyDrive/CSE 493 ALC Audio/ALC 2/ses4049', '/content/drive/MyDrive/CSE 493 ALC Audio/ALC 2/ses4050', '/content/drive/MyDrive/CSE 493 ALC Audio/ALC 2/ses4051', '/content/drive/MyDrive/CSE 493 ALC Audio/ALC 2/ses4052', '/content/drive/MyDrive/CSE 493 ALC Audio/ALC 2/ses4053', '/content/drive/MyDrive/CSE 493 ALC Audio/ALC 2/ses4054', '/content/drive/MyDrive/CSE 493 ALC Audio/ALC 2/ses4055', '/content/drive/MyDrive/CSE 493 ALC Audio/ALC 2/ses4056', '/content/drive/MyDrive/CSE 493 ALC Audio/ALC 2/ses4057', '/content/drive/MyDrive/CSE 493 ALC Audio/ALC 2/ses4058', '/content/drive/MyDrive/CSE 493 ALC Audio/ALC 2/ses4060', '/content/drive/MyDrive/CSE 493 ALC Audio/ALC 2/ses4061', '/content/drive/MyDrive/CSE 493 ALC Audio/ALC 2/ses4062', '/content/drive/MyDrive/CSE 493 ALC Audio/ALC 2/ses4063', '/content/drive/MyDrive/CSE 493 ALC Audio/ALC 2/ses4064', '/content/drive/MyDrive/CSE 493 ALC Audio/ALC 2/ses4065', '/content/drive/MyDrive/CSE 493 ALC Audio/ALC 2/ses4066', '/content/drive/MyDrive/CSE 493 ALC Audio/ALC 2/ses4067', '/content/drive/MyDrive/CSE 493 ALC Audio/ALC 2/ses4068', '/content/drive/MyDrive/CSE 493 ALC Audio/ALC 2/ses4069', '/content/drive/MyDrive/CSE 493 ALC Audio/ALC 2/ses4070', '/content/drive/MyDrive/CSE 493 ALC Audio/ALC 2/ses4071', '/content/drive/MyDrive/CSE 493 ALC Audio/ALC 2/ses4072', '/content/drive/MyDrive/CSE 493 ALC Audio/ALC 2/ses4073', '/content/drive/MyDrive/CSE 493 ALC Audio/ALC 2/ses4074', '/content/drive/MyDrive/CSE 493 ALC Audio/ALC 2/ses4077', '/content/drive/MyDrive/CSE 493 ALC Audio/ALC 2/ses4078', '/content/drive/MyDrive/CSE 493 ALC Audio/ALC 2/ses4079', '/content/drive/MyDrive/CSE 493 ALC Audio/ALC 2/ses4080', '/content/drive/MyDrive/CSE 493 ALC Audio/ALC 2/ses4081', '/content/drive/MyDrive/CSE 493 ALC Audio/ALC 2/ses5002', '/content/drive/MyDrive/CSE 493 ALC Audio/ALC 2/ses5004', '/content/drive/MyDrive/CSE 493 ALC Audio/ALC 2/ses5006', '/content/drive/MyDrive/CSE 493 ALC Audio/ALC 2/ses5007', '/content/drive/MyDrive/CSE 493 ALC Audio/ALC 2/ses5008', '/content/drive/MyDrive/CSE 493 ALC Audio/ALC 2/ses5009', '/content/drive/MyDrive/CSE 493 ALC Audio/ALC 2/ses5010', '/content/drive/MyDrive/CSE 493 ALC Audio/ALC 2/ses5011', '/content/drive/MyDrive/CSE 493 ALC Audio/ALC 2/ses5012', '/content/drive/MyDrive/CSE 493 ALC Audio/ALC 2/ses5013', '/content/drive/MyDrive/CSE 493 ALC Audio/ALC 2/ses6004', '/content/drive/MyDrive/CSE 493 ALC Audio/ALC 2/ses6005', '/content/drive/MyDrive/CSE 493 ALC Audio/ALC 2/ses6006', '/content/drive/MyDrive/CSE 493 ALC Audio/ALC 2/ses6007', '/content/drive/MyDrive/CSE 493 ALC Audio/ALC 2/ses6008', '/content/drive/MyDrive/CSE 493 ALC Audio/ALC 2/ses6009', '/content/drive/MyDrive/CSE 493 ALC Audio/ALC 2/ses6010', '/content/drive/MyDrive/CSE 493 ALC Audio/ALC 2/ses6011', '/content/drive/MyDrive/CSE 493 ALC Audio/ALC 2/ses6012', '/content/drive/MyDrive/CSE 493 ALC Audio/ALC 2/ses6013']\n"
          ]
        }
      ]
    },
    {
      "cell_type": "code",
      "source": [
        "# df_model = pd.DataFrame(columns=['features','label'])\n",
        "X = list()\n",
        "\n",
        "for p in all_ses_paths:\n",
        "  print(p)\n",
        "  for i in os.listdir(p):\n",
        "    if os.path.isfile(os.path.join(p,i)) and 'func_feature' in i:\n",
        "      file_path = os.path.join(p, i)\n",
        "      temp_df = pd.read_json(file_path)\n",
        "      for (_, columnData) in temp_df.items():\n",
        "        temp_array = [item for sublist in columnData.features for item in sublist]\n",
        "        temp_array = np.append(temp_array, columnData.label)\n",
        "        # print(temp_array.shape)\n",
        "        X.append(temp_array)\n",
        "        # df_model.loc[len(df_model.index)] = [temp_array, columnData.label]"
      ],
      "metadata": {
        "id": "Qi7UJvAfajO6",
        "colab": {
          "base_uri": "https://localhost:8080/"
        },
        "outputId": "b70e810f-6778-4a37-c421-6a6ea4b07b75"
      },
      "execution_count": 3,
      "outputs": [
        {
          "output_type": "stream",
          "name": "stdout",
          "text": [
            "/content/drive/MyDrive/CSE 493 ALC Audio/ALC 2/ses1006\n",
            "/content/drive/MyDrive/CSE 493 ALC Audio/ALC 2/ses1007\n",
            "/content/drive/MyDrive/CSE 493 ALC Audio/ALC 2/ses1008\n",
            "/content/drive/MyDrive/CSE 493 ALC Audio/ALC 2/ses1009\n",
            "/content/drive/MyDrive/CSE 493 ALC Audio/ALC 2/ses1010\n",
            "/content/drive/MyDrive/CSE 493 ALC Audio/ALC 2/ses1011\n",
            "/content/drive/MyDrive/CSE 493 ALC Audio/ALC 2/ses1012\n",
            "/content/drive/MyDrive/CSE 493 ALC Audio/ALC 2/ses1013\n",
            "/content/drive/MyDrive/CSE 493 ALC Audio/ALC 2/ses1015\n",
            "/content/drive/MyDrive/CSE 493 ALC Audio/ALC 2/ses1016\n",
            "/content/drive/MyDrive/CSE 493 ALC Audio/ALC 2/ses1017\n",
            "/content/drive/MyDrive/CSE 493 ALC Audio/ALC 2/ses1018\n",
            "/content/drive/MyDrive/CSE 493 ALC Audio/ALC 2/ses1019\n",
            "/content/drive/MyDrive/CSE 493 ALC Audio/ALC 2/ses1021\n",
            "/content/drive/MyDrive/CSE 493 ALC Audio/ALC 2/ses1023\n",
            "/content/drive/MyDrive/CSE 493 ALC Audio/ALC 2/ses1024\n",
            "/content/drive/MyDrive/CSE 493 ALC Audio/ALC 2/ses1025\n",
            "/content/drive/MyDrive/CSE 493 ALC Audio/ALC 2/ses1026\n",
            "/content/drive/MyDrive/CSE 493 ALC Audio/ALC 2/ses1027\n",
            "/content/drive/MyDrive/CSE 493 ALC Audio/ALC 2/ses1028\n",
            "/content/drive/MyDrive/CSE 493 ALC Audio/ALC 2/ses1029\n",
            "/content/drive/MyDrive/CSE 493 ALC Audio/ALC 2/ses1030\n",
            "/content/drive/MyDrive/CSE 493 ALC Audio/ALC 2/ses1031\n",
            "/content/drive/MyDrive/CSE 493 ALC Audio/ALC 2/ses1032\n",
            "/content/drive/MyDrive/CSE 493 ALC Audio/ALC 2/ses1033\n",
            "/content/drive/MyDrive/CSE 493 ALC Audio/ALC 2/ses1035\n",
            "/content/drive/MyDrive/CSE 493 ALC Audio/ALC 2/ses1036\n",
            "/content/drive/MyDrive/CSE 493 ALC Audio/ALC 2/ses1037\n",
            "/content/drive/MyDrive/CSE 493 ALC Audio/ALC 2/ses1038\n",
            "/content/drive/MyDrive/CSE 493 ALC Audio/ALC 2/ses1039\n",
            "/content/drive/MyDrive/CSE 493 ALC Audio/ALC 2/ses1040\n",
            "/content/drive/MyDrive/CSE 493 ALC Audio/ALC 2/ses1041\n",
            "/content/drive/MyDrive/CSE 493 ALC Audio/ALC 2/ses1042\n",
            "/content/drive/MyDrive/CSE 493 ALC Audio/ALC 2/ses1043\n",
            "/content/drive/MyDrive/CSE 493 ALC Audio/ALC 2/ses1044\n",
            "/content/drive/MyDrive/CSE 493 ALC Audio/ALC 2/ses1047\n",
            "/content/drive/MyDrive/CSE 493 ALC Audio/ALC 2/ses1048\n",
            "/content/drive/MyDrive/CSE 493 ALC Audio/ALC 2/ses1049\n",
            "/content/drive/MyDrive/CSE 493 ALC Audio/ALC 2/ses1050\n",
            "/content/drive/MyDrive/CSE 493 ALC Audio/ALC 2/ses1051\n",
            "/content/drive/MyDrive/CSE 493 ALC Audio/ALC 2/ses1052\n",
            "/content/drive/MyDrive/CSE 493 ALC Audio/ALC 2/ses1054\n",
            "/content/drive/MyDrive/CSE 493 ALC Audio/ALC 2/ses1055\n",
            "/content/drive/MyDrive/CSE 493 ALC Audio/ALC 2/ses1056\n",
            "/content/drive/MyDrive/CSE 493 ALC Audio/ALC 2/ses1058\n",
            "/content/drive/MyDrive/CSE 493 ALC Audio/ALC 2/ses1059\n",
            "/content/drive/MyDrive/CSE 493 ALC Audio/ALC 2/ses1060\n",
            "/content/drive/MyDrive/CSE 493 ALC Audio/ALC 2/ses1061\n",
            "/content/drive/MyDrive/CSE 493 ALC Audio/ALC 2/ses1062\n",
            "/content/drive/MyDrive/CSE 493 ALC Audio/ALC 2/ses1063\n",
            "/content/drive/MyDrive/CSE 493 ALC Audio/ALC 2/ses1064\n",
            "/content/drive/MyDrive/CSE 493 ALC Audio/ALC 2/ses1065\n",
            "/content/drive/MyDrive/CSE 493 ALC Audio/ALC 2/ses1066\n",
            "/content/drive/MyDrive/CSE 493 ALC Audio/ALC 2/ses1070\n",
            "/content/drive/MyDrive/CSE 493 ALC Audio/ALC 2/ses1071\n",
            "/content/drive/MyDrive/CSE 493 ALC Audio/ALC 2/ses1072\n",
            "/content/drive/MyDrive/CSE 493 ALC Audio/ALC 2/ses1073\n",
            "/content/drive/MyDrive/CSE 493 ALC Audio/ALC 2/ses1074\n",
            "/content/drive/MyDrive/CSE 493 ALC Audio/ALC 2/ses1075\n",
            "/content/drive/MyDrive/CSE 493 ALC Audio/ALC 2/ses1076\n",
            "/content/drive/MyDrive/CSE 493 ALC Audio/ALC 2/ses1078\n",
            "/content/drive/MyDrive/CSE 493 ALC Audio/ALC 2/ses1079\n",
            "/content/drive/MyDrive/CSE 493 ALC Audio/ALC 2/ses1080\n",
            "/content/drive/MyDrive/CSE 493 ALC Audio/ALC 2/ses1081\n",
            "/content/drive/MyDrive/CSE 493 ALC Audio/ALC 2/ses1082\n",
            "/content/drive/MyDrive/CSE 493 ALC Audio/ALC 2/ses1083\n",
            "/content/drive/MyDrive/CSE 493 ALC Audio/ALC 2/ses1084\n",
            "/content/drive/MyDrive/CSE 493 ALC Audio/ALC 2/ses1087\n",
            "/content/drive/MyDrive/CSE 493 ALC Audio/ALC 2/ses1088\n",
            "/content/drive/MyDrive/CSE 493 ALC Audio/ALC 2/ses1089\n",
            "/content/drive/MyDrive/CSE 493 ALC Audio/ALC 2/ses1090\n",
            "/content/drive/MyDrive/CSE 493 ALC Audio/ALC 2/ses1091\n",
            "/content/drive/MyDrive/CSE 493 ALC Audio/ALC 2/ses1092\n",
            "/content/drive/MyDrive/CSE 493 ALC Audio/ALC 2/ses1093\n",
            "/content/drive/MyDrive/CSE 493 ALC Audio/ALC 2/ses1095\n",
            "/content/drive/MyDrive/CSE 493 ALC Audio/ALC 2/ses1096\n",
            "/content/drive/MyDrive/CSE 493 ALC Audio/ALC 2/ses1097\n",
            "/content/drive/MyDrive/CSE 493 ALC Audio/ALC 2/ses1098\n",
            "/content/drive/MyDrive/CSE 493 ALC Audio/ALC 2/ses1099\n",
            "/content/drive/MyDrive/CSE 493 ALC Audio/ALC 2/ses1100\n",
            "/content/drive/MyDrive/CSE 493 ALC Audio/ALC 2/ses1101\n",
            "/content/drive/MyDrive/CSE 493 ALC Audio/ALC 2/ses1102\n",
            "/content/drive/MyDrive/CSE 493 ALC Audio/ALC 2/ses1103\n",
            "/content/drive/MyDrive/CSE 493 ALC Audio/ALC 2/ses1104\n",
            "/content/drive/MyDrive/CSE 493 ALC Audio/ALC 2/ses2003\n",
            "/content/drive/MyDrive/CSE 493 ALC Audio/ALC 2/ses2005\n",
            "/content/drive/MyDrive/CSE 493 ALC Audio/ALC 2/ses2006\n",
            "/content/drive/MyDrive/CSE 493 ALC Audio/ALC 2/ses2009\n",
            "/content/drive/MyDrive/CSE 493 ALC Audio/ALC 2/ses2010\n",
            "/content/drive/MyDrive/CSE 493 ALC Audio/ALC 2/ses2011\n",
            "/content/drive/MyDrive/CSE 493 ALC Audio/ALC 2/ses2012\n",
            "/content/drive/MyDrive/CSE 493 ALC Audio/ALC 2/ses2013\n",
            "/content/drive/MyDrive/CSE 493 ALC Audio/ALC 2/ses2014\n",
            "/content/drive/MyDrive/CSE 493 ALC Audio/ALC 2/ses2015\n",
            "/content/drive/MyDrive/CSE 493 ALC Audio/ALC 2/ses2016\n",
            "/content/drive/MyDrive/CSE 493 ALC Audio/ALC 2/ses2017\n",
            "/content/drive/MyDrive/CSE 493 ALC Audio/ALC 2/ses2018\n",
            "/content/drive/MyDrive/CSE 493 ALC Audio/ALC 2/ses2019\n",
            "/content/drive/MyDrive/CSE 493 ALC Audio/ALC 2/ses2020\n",
            "/content/drive/MyDrive/CSE 493 ALC Audio/ALC 2/ses2021\n",
            "/content/drive/MyDrive/CSE 493 ALC Audio/ALC 2/ses2022\n",
            "/content/drive/MyDrive/CSE 493 ALC Audio/ALC 2/ses2023\n",
            "/content/drive/MyDrive/CSE 493 ALC Audio/ALC 2/ses2024\n",
            "/content/drive/MyDrive/CSE 493 ALC Audio/ALC 2/ses2025\n",
            "/content/drive/MyDrive/CSE 493 ALC Audio/ALC 2/ses2026\n",
            "/content/drive/MyDrive/CSE 493 ALC Audio/ALC 2/ses2027\n",
            "/content/drive/MyDrive/CSE 493 ALC Audio/ALC 2/ses2028\n",
            "/content/drive/MyDrive/CSE 493 ALC Audio/ALC 2/ses2029\n",
            "/content/drive/MyDrive/CSE 493 ALC Audio/ALC 2/ses2030\n",
            "/content/drive/MyDrive/CSE 493 ALC Audio/ALC 2/ses2031\n",
            "/content/drive/MyDrive/CSE 493 ALC Audio/ALC 2/ses2032\n",
            "/content/drive/MyDrive/CSE 493 ALC Audio/ALC 2/ses2033\n",
            "/content/drive/MyDrive/CSE 493 ALC Audio/ALC 2/ses2034\n",
            "/content/drive/MyDrive/CSE 493 ALC Audio/ALC 2/ses2035\n",
            "/content/drive/MyDrive/CSE 493 ALC Audio/ALC 2/ses2036\n",
            "/content/drive/MyDrive/CSE 493 ALC Audio/ALC 2/ses2037\n",
            "/content/drive/MyDrive/CSE 493 ALC Audio/ALC 2/ses2038\n",
            "/content/drive/MyDrive/CSE 493 ALC Audio/ALC 2/ses2039\n",
            "/content/drive/MyDrive/CSE 493 ALC Audio/ALC 2/ses2040\n",
            "/content/drive/MyDrive/CSE 493 ALC Audio/ALC 2/ses2041\n",
            "/content/drive/MyDrive/CSE 493 ALC Audio/ALC 2/ses2042\n",
            "/content/drive/MyDrive/CSE 493 ALC Audio/ALC 2/ses2043\n",
            "/content/drive/MyDrive/CSE 493 ALC Audio/ALC 2/ses2044\n",
            "/content/drive/MyDrive/CSE 493 ALC Audio/ALC 2/ses2045\n",
            "/content/drive/MyDrive/CSE 493 ALC Audio/ALC 2/ses2046\n",
            "/content/drive/MyDrive/CSE 493 ALC Audio/ALC 2/ses2047\n",
            "/content/drive/MyDrive/CSE 493 ALC Audio/ALC 2/ses2048\n",
            "/content/drive/MyDrive/CSE 493 ALC Audio/ALC 2/ses2049\n",
            "/content/drive/MyDrive/CSE 493 ALC Audio/ALC 2/ses2050\n",
            "/content/drive/MyDrive/CSE 493 ALC Audio/ALC 2/ses2051\n",
            "/content/drive/MyDrive/CSE 493 ALC Audio/ALC 2/ses2052\n",
            "/content/drive/MyDrive/CSE 493 ALC Audio/ALC 2/ses2053\n",
            "/content/drive/MyDrive/CSE 493 ALC Audio/ALC 2/ses2054\n",
            "/content/drive/MyDrive/CSE 493 ALC Audio/ALC 2/ses2055\n",
            "/content/drive/MyDrive/CSE 493 ALC Audio/ALC 2/ses2056\n",
            "/content/drive/MyDrive/CSE 493 ALC Audio/ALC 2/ses2057\n",
            "/content/drive/MyDrive/CSE 493 ALC Audio/ALC 2/ses2058\n",
            "/content/drive/MyDrive/CSE 493 ALC Audio/ALC 2/ses2059\n",
            "/content/drive/MyDrive/CSE 493 ALC Audio/ALC 2/ses2060\n",
            "/content/drive/MyDrive/CSE 493 ALC Audio/ALC 2/ses2061\n",
            "/content/drive/MyDrive/CSE 493 ALC Audio/ALC 2/ses2062\n",
            "/content/drive/MyDrive/CSE 493 ALC Audio/ALC 2/ses2063\n",
            "/content/drive/MyDrive/CSE 493 ALC Audio/ALC 2/ses2064\n",
            "/content/drive/MyDrive/CSE 493 ALC Audio/ALC 2/ses2065\n",
            "/content/drive/MyDrive/CSE 493 ALC Audio/ALC 2/ses2066\n",
            "/content/drive/MyDrive/CSE 493 ALC Audio/ALC 2/ses2067\n",
            "/content/drive/MyDrive/CSE 493 ALC Audio/ALC 2/ses2068\n",
            "/content/drive/MyDrive/CSE 493 ALC Audio/ALC 2/ses2069\n",
            "/content/drive/MyDrive/CSE 493 ALC Audio/ALC 2/ses2070\n",
            "/content/drive/MyDrive/CSE 493 ALC Audio/ALC 2/ses2071\n",
            "/content/drive/MyDrive/CSE 493 ALC Audio/ALC 2/ses2072\n",
            "/content/drive/MyDrive/CSE 493 ALC Audio/ALC 2/ses2073\n",
            "/content/drive/MyDrive/CSE 493 ALC Audio/ALC 2/ses2074\n",
            "/content/drive/MyDrive/CSE 493 ALC Audio/ALC 2/ses2075\n",
            "/content/drive/MyDrive/CSE 493 ALC Audio/ALC 2/ses2076\n",
            "/content/drive/MyDrive/CSE 493 ALC Audio/ALC 2/ses2077\n",
            "/content/drive/MyDrive/CSE 493 ALC Audio/ALC 2/ses2078\n",
            "/content/drive/MyDrive/CSE 493 ALC Audio/ALC 2/ses2079\n",
            "/content/drive/MyDrive/CSE 493 ALC Audio/ALC 2/ses2080\n",
            "/content/drive/MyDrive/CSE 493 ALC Audio/ALC 2/ses2081\n",
            "/content/drive/MyDrive/CSE 493 ALC Audio/ALC 2/ses2082\n",
            "/content/drive/MyDrive/CSE 493 ALC Audio/ALC 2/ses2083\n",
            "/content/drive/MyDrive/CSE 493 ALC Audio/ALC 2/ses2084\n",
            "/content/drive/MyDrive/CSE 493 ALC Audio/ALC 2/ses2085\n",
            "/content/drive/MyDrive/CSE 493 ALC Audio/ALC 2/ses2086\n",
            "/content/drive/MyDrive/CSE 493 ALC Audio/ALC 2/ses2087\n",
            "/content/drive/MyDrive/CSE 493 ALC Audio/ALC 2/ses2088\n",
            "/content/drive/MyDrive/CSE 493 ALC Audio/ALC 2/ses2089\n",
            "/content/drive/MyDrive/CSE 493 ALC Audio/ALC 2/ses3001\n",
            "/content/drive/MyDrive/CSE 493 ALC Audio/ALC 2/ses3002\n",
            "/content/drive/MyDrive/CSE 493 ALC Audio/ALC 2/ses3003\n",
            "/content/drive/MyDrive/CSE 493 ALC Audio/ALC 2/ses3005\n",
            "/content/drive/MyDrive/CSE 493 ALC Audio/ALC 2/ses3006\n",
            "/content/drive/MyDrive/CSE 493 ALC Audio/ALC 2/ses3007\n",
            "/content/drive/MyDrive/CSE 493 ALC Audio/ALC 2/ses3008\n",
            "/content/drive/MyDrive/CSE 493 ALC Audio/ALC 2/ses3009\n",
            "/content/drive/MyDrive/CSE 493 ALC Audio/ALC 2/ses3010\n",
            "/content/drive/MyDrive/CSE 493 ALC Audio/ALC 2/ses3012\n",
            "/content/drive/MyDrive/CSE 493 ALC Audio/ALC 2/ses3014\n",
            "/content/drive/MyDrive/CSE 493 ALC Audio/ALC 2/ses3015\n",
            "/content/drive/MyDrive/CSE 493 ALC Audio/ALC 2/ses3016\n",
            "/content/drive/MyDrive/CSE 493 ALC Audio/ALC 2/ses3018\n",
            "/content/drive/MyDrive/CSE 493 ALC Audio/ALC 2/ses3019\n",
            "/content/drive/MyDrive/CSE 493 ALC Audio/ALC 2/ses3021\n",
            "/content/drive/MyDrive/CSE 493 ALC Audio/ALC 2/ses3022\n",
            "/content/drive/MyDrive/CSE 493 ALC Audio/ALC 2/ses3023\n",
            "/content/drive/MyDrive/CSE 493 ALC Audio/ALC 2/ses3024\n",
            "/content/drive/MyDrive/CSE 493 ALC Audio/ALC 2/ses3025\n",
            "/content/drive/MyDrive/CSE 493 ALC Audio/ALC 2/ses3026\n",
            "/content/drive/MyDrive/CSE 493 ALC Audio/ALC 2/ses3027\n",
            "/content/drive/MyDrive/CSE 493 ALC Audio/ALC 2/ses3028\n",
            "/content/drive/MyDrive/CSE 493 ALC Audio/ALC 2/ses3029\n",
            "/content/drive/MyDrive/CSE 493 ALC Audio/ALC 2/ses3030\n",
            "/content/drive/MyDrive/CSE 493 ALC Audio/ALC 2/ses3031\n",
            "/content/drive/MyDrive/CSE 493 ALC Audio/ALC 2/ses3032\n",
            "/content/drive/MyDrive/CSE 493 ALC Audio/ALC 2/ses3033\n",
            "/content/drive/MyDrive/CSE 493 ALC Audio/ALC 2/ses3034\n",
            "/content/drive/MyDrive/CSE 493 ALC Audio/ALC 2/ses3035\n",
            "/content/drive/MyDrive/CSE 493 ALC Audio/ALC 2/ses3037\n",
            "/content/drive/MyDrive/CSE 493 ALC Audio/ALC 2/ses3038\n",
            "/content/drive/MyDrive/CSE 493 ALC Audio/ALC 2/ses3042\n",
            "/content/drive/MyDrive/CSE 493 ALC Audio/ALC 2/ses3043\n",
            "/content/drive/MyDrive/CSE 493 ALC Audio/ALC 2/ses3044\n",
            "/content/drive/MyDrive/CSE 493 ALC Audio/ALC 2/ses3045\n",
            "/content/drive/MyDrive/CSE 493 ALC Audio/ALC 2/ses3046\n",
            "/content/drive/MyDrive/CSE 493 ALC Audio/ALC 2/ses3047\n",
            "/content/drive/MyDrive/CSE 493 ALC Audio/ALC 2/ses3048\n",
            "/content/drive/MyDrive/CSE 493 ALC Audio/ALC 2/ses3049\n",
            "/content/drive/MyDrive/CSE 493 ALC Audio/ALC 2/ses3050\n",
            "/content/drive/MyDrive/CSE 493 ALC Audio/ALC 2/ses3051\n",
            "/content/drive/MyDrive/CSE 493 ALC Audio/ALC 2/ses3052\n",
            "/content/drive/MyDrive/CSE 493 ALC Audio/ALC 2/ses3053\n",
            "/content/drive/MyDrive/CSE 493 ALC Audio/ALC 2/ses3055\n",
            "/content/drive/MyDrive/CSE 493 ALC Audio/ALC 2/ses3056\n",
            "/content/drive/MyDrive/CSE 493 ALC Audio/ALC 2/ses3057\n",
            "/content/drive/MyDrive/CSE 493 ALC Audio/ALC 2/ses3058\n",
            "/content/drive/MyDrive/CSE 493 ALC Audio/ALC 2/ses3059\n",
            "/content/drive/MyDrive/CSE 493 ALC Audio/ALC 2/ses3061\n",
            "/content/drive/MyDrive/CSE 493 ALC Audio/ALC 2/ses3062\n",
            "/content/drive/MyDrive/CSE 493 ALC Audio/ALC 2/ses3063\n",
            "/content/drive/MyDrive/CSE 493 ALC Audio/ALC 2/ses3064\n",
            "/content/drive/MyDrive/CSE 493 ALC Audio/ALC 2/ses3066\n",
            "/content/drive/MyDrive/CSE 493 ALC Audio/ALC 2/ses3069\n",
            "/content/drive/MyDrive/CSE 493 ALC Audio/ALC 2/ses3070\n",
            "/content/drive/MyDrive/CSE 493 ALC Audio/ALC 2/ses3071\n",
            "/content/drive/MyDrive/CSE 493 ALC Audio/ALC 2/ses3072\n",
            "/content/drive/MyDrive/CSE 493 ALC Audio/ALC 2/ses3073\n",
            "/content/drive/MyDrive/CSE 493 ALC Audio/ALC 2/ses3074\n",
            "/content/drive/MyDrive/CSE 493 ALC Audio/ALC 2/ses3075\n",
            "/content/drive/MyDrive/CSE 493 ALC Audio/ALC 2/ses3076\n",
            "/content/drive/MyDrive/CSE 493 ALC Audio/ALC 2/ses3077\n",
            "/content/drive/MyDrive/CSE 493 ALC Audio/ALC 2/ses3078\n",
            "/content/drive/MyDrive/CSE 493 ALC Audio/ALC 2/ses3079\n",
            "/content/drive/MyDrive/CSE 493 ALC Audio/ALC 2/ses3082\n",
            "/content/drive/MyDrive/CSE 493 ALC Audio/ALC 2/ses3083\n",
            "/content/drive/MyDrive/CSE 493 ALC Audio/ALC 2/ses3084\n",
            "/content/drive/MyDrive/CSE 493 ALC Audio/ALC 2/ses3085\n",
            "/content/drive/MyDrive/CSE 493 ALC Audio/ALC 2/ses3086\n",
            "/content/drive/MyDrive/CSE 493 ALC Audio/ALC 2/ses3087\n",
            "/content/drive/MyDrive/CSE 493 ALC Audio/ALC 2/ses3088\n",
            "/content/drive/MyDrive/CSE 493 ALC Audio/ALC 2/ses3090\n",
            "/content/drive/MyDrive/CSE 493 ALC Audio/ALC 2/ses3091\n",
            "/content/drive/MyDrive/CSE 493 ALC Audio/ALC 2/ses3092\n",
            "/content/drive/MyDrive/CSE 493 ALC Audio/ALC 2/ses3095\n",
            "/content/drive/MyDrive/CSE 493 ALC Audio/ALC 2/ses3096\n",
            "/content/drive/MyDrive/CSE 493 ALC Audio/ALC 2/ses3097\n",
            "/content/drive/MyDrive/CSE 493 ALC Audio/ALC 2/ses4001\n",
            "/content/drive/MyDrive/CSE 493 ALC Audio/ALC 2/ses4002\n",
            "/content/drive/MyDrive/CSE 493 ALC Audio/ALC 2/ses4003\n",
            "/content/drive/MyDrive/CSE 493 ALC Audio/ALC 2/ses4004\n",
            "/content/drive/MyDrive/CSE 493 ALC Audio/ALC 2/ses4005\n",
            "/content/drive/MyDrive/CSE 493 ALC Audio/ALC 2/ses4006\n",
            "/content/drive/MyDrive/CSE 493 ALC Audio/ALC 2/ses4007\n",
            "/content/drive/MyDrive/CSE 493 ALC Audio/ALC 2/ses4008\n",
            "/content/drive/MyDrive/CSE 493 ALC Audio/ALC 2/ses4009\n",
            "/content/drive/MyDrive/CSE 493 ALC Audio/ALC 2/ses4010\n",
            "/content/drive/MyDrive/CSE 493 ALC Audio/ALC 2/ses4011\n",
            "/content/drive/MyDrive/CSE 493 ALC Audio/ALC 2/ses4012\n",
            "/content/drive/MyDrive/CSE 493 ALC Audio/ALC 2/ses4013\n",
            "/content/drive/MyDrive/CSE 493 ALC Audio/ALC 2/ses4014\n",
            "/content/drive/MyDrive/CSE 493 ALC Audio/ALC 2/ses4015\n",
            "/content/drive/MyDrive/CSE 493 ALC Audio/ALC 2/ses4016\n",
            "/content/drive/MyDrive/CSE 493 ALC Audio/ALC 2/ses4017\n",
            "/content/drive/MyDrive/CSE 493 ALC Audio/ALC 2/ses4018\n",
            "/content/drive/MyDrive/CSE 493 ALC Audio/ALC 2/ses4019\n",
            "/content/drive/MyDrive/CSE 493 ALC Audio/ALC 2/ses4020\n",
            "/content/drive/MyDrive/CSE 493 ALC Audio/ALC 2/ses4021\n",
            "/content/drive/MyDrive/CSE 493 ALC Audio/ALC 2/ses4022\n",
            "/content/drive/MyDrive/CSE 493 ALC Audio/ALC 2/ses4023\n",
            "/content/drive/MyDrive/CSE 493 ALC Audio/ALC 2/ses4024\n",
            "/content/drive/MyDrive/CSE 493 ALC Audio/ALC 2/ses4025\n",
            "/content/drive/MyDrive/CSE 493 ALC Audio/ALC 2/ses4026\n",
            "/content/drive/MyDrive/CSE 493 ALC Audio/ALC 2/ses4027\n",
            "/content/drive/MyDrive/CSE 493 ALC Audio/ALC 2/ses4028\n",
            "/content/drive/MyDrive/CSE 493 ALC Audio/ALC 2/ses4029\n",
            "/content/drive/MyDrive/CSE 493 ALC Audio/ALC 2/ses4030\n",
            "/content/drive/MyDrive/CSE 493 ALC Audio/ALC 2/ses4031\n",
            "/content/drive/MyDrive/CSE 493 ALC Audio/ALC 2/ses4032\n",
            "/content/drive/MyDrive/CSE 493 ALC Audio/ALC 2/ses4033\n",
            "/content/drive/MyDrive/CSE 493 ALC Audio/ALC 2/ses4034\n",
            "/content/drive/MyDrive/CSE 493 ALC Audio/ALC 2/ses4035\n",
            "/content/drive/MyDrive/CSE 493 ALC Audio/ALC 2/ses4036\n",
            "/content/drive/MyDrive/CSE 493 ALC Audio/ALC 2/ses4037\n",
            "/content/drive/MyDrive/CSE 493 ALC Audio/ALC 2/ses4038\n",
            "/content/drive/MyDrive/CSE 493 ALC Audio/ALC 2/ses4039\n",
            "/content/drive/MyDrive/CSE 493 ALC Audio/ALC 2/ses4040\n",
            "/content/drive/MyDrive/CSE 493 ALC Audio/ALC 2/ses4041\n",
            "/content/drive/MyDrive/CSE 493 ALC Audio/ALC 2/ses4042\n",
            "/content/drive/MyDrive/CSE 493 ALC Audio/ALC 2/ses4043\n",
            "/content/drive/MyDrive/CSE 493 ALC Audio/ALC 2/ses4044\n",
            "/content/drive/MyDrive/CSE 493 ALC Audio/ALC 2/ses4045\n",
            "/content/drive/MyDrive/CSE 493 ALC Audio/ALC 2/ses4046\n",
            "/content/drive/MyDrive/CSE 493 ALC Audio/ALC 2/ses4047\n",
            "/content/drive/MyDrive/CSE 493 ALC Audio/ALC 2/ses4048\n",
            "/content/drive/MyDrive/CSE 493 ALC Audio/ALC 2/ses4049\n",
            "/content/drive/MyDrive/CSE 493 ALC Audio/ALC 2/ses4050\n",
            "/content/drive/MyDrive/CSE 493 ALC Audio/ALC 2/ses4051\n",
            "/content/drive/MyDrive/CSE 493 ALC Audio/ALC 2/ses4052\n",
            "/content/drive/MyDrive/CSE 493 ALC Audio/ALC 2/ses4053\n",
            "/content/drive/MyDrive/CSE 493 ALC Audio/ALC 2/ses4054\n",
            "/content/drive/MyDrive/CSE 493 ALC Audio/ALC 2/ses4055\n",
            "/content/drive/MyDrive/CSE 493 ALC Audio/ALC 2/ses4056\n",
            "/content/drive/MyDrive/CSE 493 ALC Audio/ALC 2/ses4057\n",
            "/content/drive/MyDrive/CSE 493 ALC Audio/ALC 2/ses4058\n",
            "/content/drive/MyDrive/CSE 493 ALC Audio/ALC 2/ses4060\n",
            "/content/drive/MyDrive/CSE 493 ALC Audio/ALC 2/ses4061\n",
            "/content/drive/MyDrive/CSE 493 ALC Audio/ALC 2/ses4062\n",
            "/content/drive/MyDrive/CSE 493 ALC Audio/ALC 2/ses4063\n",
            "/content/drive/MyDrive/CSE 493 ALC Audio/ALC 2/ses4064\n",
            "/content/drive/MyDrive/CSE 493 ALC Audio/ALC 2/ses4065\n",
            "/content/drive/MyDrive/CSE 493 ALC Audio/ALC 2/ses4066\n",
            "/content/drive/MyDrive/CSE 493 ALC Audio/ALC 2/ses4067\n",
            "/content/drive/MyDrive/CSE 493 ALC Audio/ALC 2/ses4068\n",
            "/content/drive/MyDrive/CSE 493 ALC Audio/ALC 2/ses4069\n",
            "/content/drive/MyDrive/CSE 493 ALC Audio/ALC 2/ses4070\n",
            "/content/drive/MyDrive/CSE 493 ALC Audio/ALC 2/ses4071\n",
            "/content/drive/MyDrive/CSE 493 ALC Audio/ALC 2/ses4072\n",
            "/content/drive/MyDrive/CSE 493 ALC Audio/ALC 2/ses4073\n",
            "/content/drive/MyDrive/CSE 493 ALC Audio/ALC 2/ses4074\n",
            "/content/drive/MyDrive/CSE 493 ALC Audio/ALC 2/ses4077\n",
            "/content/drive/MyDrive/CSE 493 ALC Audio/ALC 2/ses4078\n",
            "/content/drive/MyDrive/CSE 493 ALC Audio/ALC 2/ses4079\n",
            "/content/drive/MyDrive/CSE 493 ALC Audio/ALC 2/ses4080\n",
            "/content/drive/MyDrive/CSE 493 ALC Audio/ALC 2/ses4081\n",
            "/content/drive/MyDrive/CSE 493 ALC Audio/ALC 2/ses5002\n",
            "/content/drive/MyDrive/CSE 493 ALC Audio/ALC 2/ses5004\n",
            "/content/drive/MyDrive/CSE 493 ALC Audio/ALC 2/ses5006\n",
            "/content/drive/MyDrive/CSE 493 ALC Audio/ALC 2/ses5007\n",
            "/content/drive/MyDrive/CSE 493 ALC Audio/ALC 2/ses5008\n",
            "/content/drive/MyDrive/CSE 493 ALC Audio/ALC 2/ses5009\n",
            "/content/drive/MyDrive/CSE 493 ALC Audio/ALC 2/ses5010\n",
            "/content/drive/MyDrive/CSE 493 ALC Audio/ALC 2/ses5011\n",
            "/content/drive/MyDrive/CSE 493 ALC Audio/ALC 2/ses5012\n",
            "/content/drive/MyDrive/CSE 493 ALC Audio/ALC 2/ses5013\n",
            "/content/drive/MyDrive/CSE 493 ALC Audio/ALC 2/ses6004\n",
            "/content/drive/MyDrive/CSE 493 ALC Audio/ALC 2/ses6005\n",
            "/content/drive/MyDrive/CSE 493 ALC Audio/ALC 2/ses6006\n",
            "/content/drive/MyDrive/CSE 493 ALC Audio/ALC 2/ses6007\n",
            "/content/drive/MyDrive/CSE 493 ALC Audio/ALC 2/ses6008\n",
            "/content/drive/MyDrive/CSE 493 ALC Audio/ALC 2/ses6009\n",
            "/content/drive/MyDrive/CSE 493 ALC Audio/ALC 2/ses6010\n",
            "/content/drive/MyDrive/CSE 493 ALC Audio/ALC 2/ses6011\n",
            "/content/drive/MyDrive/CSE 493 ALC Audio/ALC 2/ses6012\n",
            "/content/drive/MyDrive/CSE 493 ALC Audio/ALC 2/ses6013\n"
          ]
        }
      ]
    },
    {
      "cell_type": "code",
      "source": [
        "df_visualization = pd.DataFrame(X)"
      ],
      "metadata": {
        "id": "T9l25ona4IKF"
      },
      "execution_count": 15,
      "outputs": []
    },
    {
      "cell_type": "code",
      "source": [
        "for i, row in df_visualization.iterrows():\n",
        "  # print(row[:6373])\n",
        "  plt.plot(range(6373), row[:6373])\n",
        "  plt.ylim([-100, 100])\n",
        "  plt.show()\n",
        "  break\n"
      ],
      "metadata": {
        "colab": {
          "base_uri": "https://localhost:8080/",
          "height": 435
        },
        "id": "p2sK9ncG6wNA",
        "outputId": "71a075ee-7d54-4861-a8dd-c95a7e3abbeb"
      },
      "execution_count": 43,
      "outputs": [
        {
          "output_type": "display_data",
          "data": {
            "text/plain": [
              "<Figure size 640x480 with 1 Axes>"
            ],
            "image/png": "[encoded data removed]"
          },
          "metadata": {}
        }
      ]
    },
    {
      "cell_type": "code",
      "source": [
        "features = df_visualization.iloc[:,:df_visualization.shape[1]-1].values"
      ],
      "metadata": {
        "id": "UIDc6dAq4Q2W"
      },
      "execution_count": null,
      "outputs": []
    },
    {
      "cell_type": "code",
      "source": [
        "import keras\n",
        "from keras.models import Sequential\n",
        "from keras.layers import Conv1D, AvgPool1D, Flatten, Dense, Dropout, Softmax\n",
        "from keras.optimizers import Adam\n",
        "from keras import regularizers\n",
        "from keras.layers import BatchNormalization, Activation\n",
        "model = Sequential()\n",
        "model.add(Conv1D(32, 32, padding='same', input_shape=(6373, 1)))\n",
        "model.add(BatchNormalization())\n",
        "model.add(Activation(keras.activations.relu))\n",
        "model.add(AvgPool1D(5, 4))\n",
        "model.add(Dropout(0.5))\n",
        "model.add(Conv1D(64, 34, padding='same'))\n",
        "model.add(BatchNormalization())\n",
        "model.add(Activation(keras.activations.relu))\n",
        "model.add(AvgPool1D(5, 4))\n",
        "model.add(Dropout(0.5))\n",
        "model.add(Conv1D(128, 36, padding='same'))\n",
        "model.add(BatchNormalization())\n",
        "model.add(Activation(keras.activations.relu))\n",
        "model.add(AvgPool1D(5, 4))\n",
        "model.add(Dropout(0.5))\n",
        "model.add(Conv1D(256, 38, padding='same'))\n",
        "model.add(BatchNormalization())\n",
        "model.add(Activation(keras.activations.relu))\n",
        "model.add(AvgPool1D(5, 4))\n",
        "model.add(Dropout(0.5))\n",
        "model.add(Conv1D(512, 40, padding='same'))\n",
        "model.add(BatchNormalization())\n",
        "model.add(Activation(keras.activations.relu))\n",
        "model.add(AvgPool1D(5, 4))\n",
        "model.add(Dropout(0.5))\n",
        "model.add(keras.layers.Flatten())\n",
        "model.add(Dense(2))\n",
        "model.add(keras.layers.Softmax())\n",
        "\n",
        "model.summary()"
      ],
      "metadata": {
        "colab": {
          "base_uri": "https://localhost:8080/"
        },
        "id": "popP4_RiTK7B",
        "outputId": "3905c98d-18bb-4165-efe7-c45f8ef44c7e"
      },
      "execution_count": 58,
      "outputs": [
        {
          "output_type": "stream",
          "name": "stdout",
          "text": [
            "Model: \"sequential_7\"\n",
            "_________________________________________________________________\n",
            " Layer (type)                Output Shape              Param #   \n",
            "=================================================================\n",
            " conv1d_35 (Conv1D)          (None, 6373, 32)          1056      \n",
            "                                                                 \n",
            " batch_normalization_35 (Ba  (None, 6373, 32)          128       \n",
            " tchNormalization)                                               \n",
            "                                                                 \n",
            " activation_35 (Activation)  (None, 6373, 32)          0         \n",
            "                                                                 \n",
            " average_pooling1d_35 (Aver  (None, 1593, 32)          0         \n",
            " agePooling1D)                                                   \n",
            "                                                                 \n",
            " dropout_35 (Dropout)        (None, 1593, 32)          0         \n",
            "                                                                 \n",
            " conv1d_36 (Conv1D)          (None, 1593, 64)          69696     \n",
            "                                                                 \n",
            " batch_normalization_36 (Ba  (None, 1593, 64)          256       \n",
            " tchNormalization)                                               \n",
            "                                                                 \n",
            " activation_36 (Activation)  (None, 1593, 64)          0         \n",
            "                                                                 \n",
            " average_pooling1d_36 (Aver  (None, 398, 64)           0         \n",
            " agePooling1D)                                                   \n",
            "                                                                 \n",
            " dropout_36 (Dropout)        (None, 398, 64)           0         \n",
            "                                                                 \n",
            " conv1d_37 (Conv1D)          (None, 398, 128)          295040    \n",
            "                                                                 \n",
            " batch_normalization_37 (Ba  (None, 398, 128)          512       \n",
            " tchNormalization)                                               \n",
            "                                                                 \n",
            " activation_37 (Activation)  (None, 398, 128)          0         \n",
            "                                                                 \n",
            " average_pooling1d_37 (Aver  (None, 99, 128)           0         \n",
            " agePooling1D)                                                   \n",
            "                                                                 \n",
            " dropout_37 (Dropout)        (None, 99, 128)           0         \n",
            "                                                                 \n",
            " conv1d_38 (Conv1D)          (None, 99, 256)           1245440   \n",
            "                                                                 \n",
            " batch_normalization_38 (Ba  (None, 99, 256)           1024      \n",
            " tchNormalization)                                               \n",
            "                                                                 \n",
            " activation_38 (Activation)  (None, 99, 256)           0         \n",
            "                                                                 \n",
            " average_pooling1d_38 (Aver  (None, 24, 256)           0         \n",
            " agePooling1D)                                                   \n",
            "                                                                 \n",
            " dropout_38 (Dropout)        (None, 24, 256)           0         \n",
            "                                                                 \n",
            " conv1d_39 (Conv1D)          (None, 24, 512)           5243392   \n",
            "                                                                 \n",
            " batch_normalization_39 (Ba  (None, 24, 512)           2048      \n",
            " tchNormalization)                                               \n",
            "                                                                 \n",
            " activation_39 (Activation)  (None, 24, 512)           0         \n",
            "                                                                 \n",
            " average_pooling1d_39 (Aver  (None, 5, 512)            0         \n",
            " agePooling1D)                                                   \n",
            "                                                                 \n",
            " dropout_39 (Dropout)        (None, 5, 512)            0         \n",
            "                                                                 \n",
            " flatten_7 (Flatten)         (None, 2560)              0         \n",
            "                                                                 \n",
            " dense_7 (Dense)             (None, 2)                 5122      \n",
            "                                                                 \n",
            " softmax_7 (Softmax)         (None, 2)                 0         \n",
            "                                                                 \n",
            "=================================================================\n",
            "Total params: 6863714 (26.18 MB)\n",
            "Trainable params: 6861730 (26.18 MB)\n",
            "Non-trainable params: 1984 (7.75 KB)\n",
            "_________________________________________________________________\n"
          ]
        }
      ]
    },
    {
      "cell_type": "code",
      "source": [
        "df_model = pd.DataFrame(X)"
      ],
      "metadata": {
        "id": "IWfWdkgBecc9"
      },
      "execution_count": 45,
      "outputs": []
    },
    {
      "cell_type": "code",
      "source": [
        "from sklearn.model_selection import train_test_split\n",
        "from keras.utils import to_categorical\n",
        "X_train, X_test = train_test_split(df_model, test_size=0.20, random_state=1)\n"
      ],
      "metadata": {
        "id": "tfwfcoUnMiFy"
      },
      "execution_count": 50,
      "outputs": []
    },
    {
      "cell_type": "code",
      "source": [
        "print(X_train.shape)"
      ],
      "metadata": {
        "colab": {
          "base_uri": "https://localhost:8080/"
        },
        "id": "eBhgluRFgq9p",
        "outputId": "5f9bd306-befd-4a11-a166-c316e6d67e75"
      },
      "execution_count": 51,
      "outputs": [
        {
          "output_type": "stream",
          "name": "stdout",
          "text": [
            "(9901, 6374)\n"
          ]
        }
      ]
    },
    {
      "cell_type": "code",
      "source": [
        "train_x = X_train.iloc[:,:X_train.shape[1]-1].values\n",
        "train_x.reshape(len(train_x), train_x.shape[1],1)\n",
        "train_y = X_train[X_train.shape[1]-1]\n",
        "train_y=to_categorical(train_y)\n",
        "print(np.shape(train_x), np.shape(train_y))"
      ],
      "metadata": {
        "colab": {
          "base_uri": "https://localhost:8080/"
        },
        "id": "1BOpIYXVQWJg",
        "outputId": "95909394-e868-4ed6-f9d5-d8f8d3ad19fb"
      },
      "execution_count": 52,
      "outputs": [
        {
          "output_type": "stream",
          "name": "stdout",
          "text": [
            "(9901, 6373) (9901, 2)\n"
          ]
        }
      ]
    },
    {
      "cell_type": "code",
      "source": [
        "from keras.utils import to_categorical\n",
        "\n",
        "# X_train = X_train.iloc[:,:].values\n",
        "# print(X_train[1])\n",
        "# y_train = to_categorical(y_train)\n",
        "checkpoint_filepath = '/content/drive/MyDrive/CSE 493 ALC Audio/checkpoints/checkpoint.model.keras'\n",
        "model_checkpoint_callback = keras.callbacks.ModelCheckpoint(\n",
        "    filepath=checkpoint_filepath)\n",
        "\n",
        "model.compile(loss='categorical_crossentropy', optimizer=Adam(), metrics=['accuracy'])\n",
        "history = model.fit(train_x, train_y, batch_size = 32, epochs=10, callbacks=[model_checkpoint_callback], verbose=1)"
      ],
      "metadata": {
        "colab": {
          "base_uri": "https://localhost:8080/"
        },
        "id": "6cW-CRQFQ_fF",
        "outputId": "4e0b9236-b085-4bab-bc84-1ff9cbd814db"
      },
      "execution_count": 53,
      "outputs": [
        {
          "output_type": "stream",
          "name": "stdout",
          "text": [
            "Epoch 1/10\n",
            "310/310 [==============================] - 405s 1s/step - loss: 0.7397 - accuracy: 0.5818\n",
            "Epoch 2/10\n",
            "310/310 [==============================] - 405s 1s/step - loss: 0.6827 - accuracy: 0.6022\n",
            "Epoch 3/10\n",
            "310/310 [==============================] - 407s 1s/step - loss: 0.6735 - accuracy: 0.6106\n",
            "Epoch 4/10\n",
            "310/310 [==============================] - 422s 1s/step - loss: 0.6687 - accuracy: 0.6158\n",
            "Epoch 5/10\n",
            "310/310 [==============================] - 425s 1s/step - loss: 0.6678 - accuracy: 0.6176\n",
            "Epoch 6/10\n",
            "310/310 [==============================] - 431s 1s/step - loss: 0.6656 - accuracy: 0.6196\n",
            "Epoch 7/10\n",
            "310/310 [==============================] - 428s 1s/step - loss: 0.6660 - accuracy: 0.6181\n",
            "Epoch 8/10\n",
            "310/310 [==============================] - 432s 1s/step - loss: 0.6654 - accuracy: 0.6193\n",
            "Epoch 9/10\n",
            "310/310 [==============================] - 404s 1s/step - loss: 0.6653 - accuracy: 0.6193\n",
            "Epoch 10/10\n",
            "310/310 [==============================] - 423s 1s/step - loss: 0.6667 - accuracy: 0.6192\n"
          ]
        }
      ]
    },
    {
      "cell_type": "code",
      "source": [
        "import matplotlib.pyplot as plt\n",
        "\n",
        "plt.plot(history.history['loss'])\n",
        "plt.title('model loss')\n",
        "plt.ylabel('loss')\n",
        "plt.xlabel('epoch')\n",
        "plt.legend(['train', 'test'], loc='upper left')\n",
        "plt.show()"
      ],
      "metadata": {
        "colab": {
          "base_uri": "https://localhost:8080/",
          "height": 472
        },
        "id": "wxfCJ57AJaJh",
        "outputId": "1ed9c82e-c0a3-4665-e749-f344ebc16a9f"
      },
      "execution_count": 54,
      "outputs": [
        {
          "output_type": "display_data",
          "data": {
            "text/plain": [
              "<Figure size 640x480 with 1 Axes>"
            ],
            "image/png": "[encoded data removed]"
          },
          "metadata": {}
        }
      ]
    },
    {
      "cell_type": "code",
      "source": [
        "test_x = X_test.iloc[:,:X_test.shape[1]-1].values\n",
        "test_x.reshape(len(test_x), test_x.shape[1],1)\n",
        "test_y = X_test[X_test.shape[1]-1]\n",
        "test_y = to_categorical(test_y)\n",
        "print(np.shape(test_x), np.shape(test_y))"
      ],
      "metadata": {
        "colab": {
          "base_uri": "https://localhost:8080/"
        },
        "id": "CCnAyG7cI37o",
        "outputId": "1eec8f58-f343-4f22-f916-30cdc6d5035c"
      },
      "execution_count": 55,
      "outputs": [
        {
          "output_type": "stream",
          "name": "stdout",
          "text": [
            "(2476, 6373) (2476, 2)\n"
          ]
        }
      ]
    },
    {
      "cell_type": "code",
      "source": [
        "score = model.evaluate(test_x, test_y)\n",
        "\n",
        "print('Test Loss:', score[0])\n",
        "print('Test accuracy:', score[1])"
      ],
      "metadata": {
        "colab": {
          "base_uri": "https://localhost:8080/"
        },
        "id": "y0dOdzQNJImB",
        "outputId": "96d15c7a-2eda-4f8d-d57a-8d4768750dd3"
      },
      "execution_count": 56,
      "outputs": [
        {
          "output_type": "stream",
          "name": "stdout",
          "text": [
            "78/78 [==============================] - 31s 393ms/step - loss: 0.6700 - accuracy: 0.6050\n",
            "Test Loss: 0.67000812292099\n",
            "Test accuracy: 0.605008065700531\n"
          ]
        }
      ]
    }
  ]
}